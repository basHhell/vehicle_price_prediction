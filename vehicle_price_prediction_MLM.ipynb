{
 "cells": [
  {
   "metadata": {},
   "cell_type": "markdown",
   "source": "## IMPORTING LIBRARIES",
   "id": "2bf5e07707cbbc1b"
  },
  {
   "cell_type": "code",
   "id": "initial_id",
   "metadata": {
    "collapsed": true,
    "ExecuteTime": {
     "end_time": "2025-10-21T16:38:44.453014Z",
     "start_time": "2025-10-21T16:38:44.443010Z"
    }
   },
   "source": [
    "import pandas as pd\n",
    "import numpy as np\n",
    "import sklearn\n",
    "from catboost import CatBoostRegressor,Pool\n",
    "from sklearn.model_selection import train_test_split\n",
    "import joblib\n",
    "import mlflow\n",
    "import mlflow.catboost"
   ],
   "outputs": [],
   "execution_count": 363
  },
  {
   "metadata": {},
   "cell_type": "markdown",
   "source": "## IMPORTING DATASET",
   "id": "37d67762ee509dd5"
  },
  {
   "metadata": {
    "ExecuteTime": {
     "end_time": "2025-10-21T16:38:44.547072Z",
     "start_time": "2025-10-21T16:38:44.481037Z"
    }
   },
   "cell_type": "code",
   "source": [
    "df=pd.read_csv(\"dataset.csv\")\n",
    "df.head(5)"
   ],
   "id": "fed844543773179f",
   "outputs": [
    {
     "data": {
      "text/plain": [
       "                              name  \\\n",
       "0     2024 Jeep Wagoneer Series II   \n",
       "1  2024 Jeep Grand Cherokee Laredo   \n",
       "2         2024 GMC Yukon XL Denali   \n",
       "3       2023 Dodge Durango Pursuit   \n",
       "4            2024 RAM 3500 Laramie   \n",
       "\n",
       "                                         description   make           model  \\\n",
       "0  \\n      \\n        Heated Leather Seats, Nav Sy...   Jeep        Wagoneer   \n",
       "1  Al West is committed to offering every custome...   Jeep  Grand Cherokee   \n",
       "2                                                NaN    GMC        Yukon XL   \n",
       "3  White Knuckle Clearcoat 2023 Dodge Durango Pur...  Dodge         Durango   \n",
       "4  \\n      \\n        2024 Ram 3500 Laramie Billet...    RAM            3500   \n",
       "\n",
       "   year    price                                             engine  \\\n",
       "0  2024  74600.0                            24V GDI DOHC Twin Turbo   \n",
       "1  2024  50170.0                                                OHV   \n",
       "2  2024  96410.0  6.2L V-8 gasoline direct injection, variable v...   \n",
       "3  2023  46835.0                                       16V MPFI OHV   \n",
       "4  2024  81663.0                           24V DDI OHV Turbo Diesel   \n",
       "\n",
       "   cylinders      fuel  mileage       transmission       trim          body  \\\n",
       "0        6.0  Gasoline     10.0  8-Speed Automatic  Series II           SUV   \n",
       "1        6.0  Gasoline      1.0  8-Speed Automatic     Laredo           SUV   \n",
       "2        8.0  Gasoline      0.0          Automatic     Denali           SUV   \n",
       "3        8.0  Gasoline     32.0  8-Speed Automatic    Pursuit           SUV   \n",
       "4        6.0    Diesel     10.0  6-Speed Automatic    Laramie  Pickup Truck   \n",
       "\n",
       "   doors           exterior_color    interior_color        drivetrain  \n",
       "0    4.0                    White      Global Black  Four-wheel Drive  \n",
       "1    4.0                 Metallic      Global Black  Four-wheel Drive  \n",
       "2    4.0             Summit White  Teak/Light Shale  Four-wheel Drive  \n",
       "3    4.0  White Knuckle Clearcoat             Black   All-wheel Drive  \n",
       "4    4.0                   Silver             Black  Four-wheel Drive  "
      ],
      "text/html": [
       "<div>\n",
       "<style scoped>\n",
       "    .dataframe tbody tr th:only-of-type {\n",
       "        vertical-align: middle;\n",
       "    }\n",
       "\n",
       "    .dataframe tbody tr th {\n",
       "        vertical-align: top;\n",
       "    }\n",
       "\n",
       "    .dataframe thead th {\n",
       "        text-align: right;\n",
       "    }\n",
       "</style>\n",
       "<table border=\"1\" class=\"dataframe\">\n",
       "  <thead>\n",
       "    <tr style=\"text-align: right;\">\n",
       "      <th></th>\n",
       "      <th>name</th>\n",
       "      <th>description</th>\n",
       "      <th>make</th>\n",
       "      <th>model</th>\n",
       "      <th>year</th>\n",
       "      <th>price</th>\n",
       "      <th>engine</th>\n",
       "      <th>cylinders</th>\n",
       "      <th>fuel</th>\n",
       "      <th>mileage</th>\n",
       "      <th>transmission</th>\n",
       "      <th>trim</th>\n",
       "      <th>body</th>\n",
       "      <th>doors</th>\n",
       "      <th>exterior_color</th>\n",
       "      <th>interior_color</th>\n",
       "      <th>drivetrain</th>\n",
       "    </tr>\n",
       "  </thead>\n",
       "  <tbody>\n",
       "    <tr>\n",
       "      <th>0</th>\n",
       "      <td>2024 Jeep Wagoneer Series II</td>\n",
       "      <td>\\n      \\n        Heated Leather Seats, Nav Sy...</td>\n",
       "      <td>Jeep</td>\n",
       "      <td>Wagoneer</td>\n",
       "      <td>2024</td>\n",
       "      <td>74600.0</td>\n",
       "      <td>24V GDI DOHC Twin Turbo</td>\n",
       "      <td>6.0</td>\n",
       "      <td>Gasoline</td>\n",
       "      <td>10.0</td>\n",
       "      <td>8-Speed Automatic</td>\n",
       "      <td>Series II</td>\n",
       "      <td>SUV</td>\n",
       "      <td>4.0</td>\n",
       "      <td>White</td>\n",
       "      <td>Global Black</td>\n",
       "      <td>Four-wheel Drive</td>\n",
       "    </tr>\n",
       "    <tr>\n",
       "      <th>1</th>\n",
       "      <td>2024 Jeep Grand Cherokee Laredo</td>\n",
       "      <td>Al West is committed to offering every custome...</td>\n",
       "      <td>Jeep</td>\n",
       "      <td>Grand Cherokee</td>\n",
       "      <td>2024</td>\n",
       "      <td>50170.0</td>\n",
       "      <td>OHV</td>\n",
       "      <td>6.0</td>\n",
       "      <td>Gasoline</td>\n",
       "      <td>1.0</td>\n",
       "      <td>8-Speed Automatic</td>\n",
       "      <td>Laredo</td>\n",
       "      <td>SUV</td>\n",
       "      <td>4.0</td>\n",
       "      <td>Metallic</td>\n",
       "      <td>Global Black</td>\n",
       "      <td>Four-wheel Drive</td>\n",
       "    </tr>\n",
       "    <tr>\n",
       "      <th>2</th>\n",
       "      <td>2024 GMC Yukon XL Denali</td>\n",
       "      <td>NaN</td>\n",
       "      <td>GMC</td>\n",
       "      <td>Yukon XL</td>\n",
       "      <td>2024</td>\n",
       "      <td>96410.0</td>\n",
       "      <td>6.2L V-8 gasoline direct injection, variable v...</td>\n",
       "      <td>8.0</td>\n",
       "      <td>Gasoline</td>\n",
       "      <td>0.0</td>\n",
       "      <td>Automatic</td>\n",
       "      <td>Denali</td>\n",
       "      <td>SUV</td>\n",
       "      <td>4.0</td>\n",
       "      <td>Summit White</td>\n",
       "      <td>Teak/Light Shale</td>\n",
       "      <td>Four-wheel Drive</td>\n",
       "    </tr>\n",
       "    <tr>\n",
       "      <th>3</th>\n",
       "      <td>2023 Dodge Durango Pursuit</td>\n",
       "      <td>White Knuckle Clearcoat 2023 Dodge Durango Pur...</td>\n",
       "      <td>Dodge</td>\n",
       "      <td>Durango</td>\n",
       "      <td>2023</td>\n",
       "      <td>46835.0</td>\n",
       "      <td>16V MPFI OHV</td>\n",
       "      <td>8.0</td>\n",
       "      <td>Gasoline</td>\n",
       "      <td>32.0</td>\n",
       "      <td>8-Speed Automatic</td>\n",
       "      <td>Pursuit</td>\n",
       "      <td>SUV</td>\n",
       "      <td>4.0</td>\n",
       "      <td>White Knuckle Clearcoat</td>\n",
       "      <td>Black</td>\n",
       "      <td>All-wheel Drive</td>\n",
       "    </tr>\n",
       "    <tr>\n",
       "      <th>4</th>\n",
       "      <td>2024 RAM 3500 Laramie</td>\n",
       "      <td>\\n      \\n        2024 Ram 3500 Laramie Billet...</td>\n",
       "      <td>RAM</td>\n",
       "      <td>3500</td>\n",
       "      <td>2024</td>\n",
       "      <td>81663.0</td>\n",
       "      <td>24V DDI OHV Turbo Diesel</td>\n",
       "      <td>6.0</td>\n",
       "      <td>Diesel</td>\n",
       "      <td>10.0</td>\n",
       "      <td>6-Speed Automatic</td>\n",
       "      <td>Laramie</td>\n",
       "      <td>Pickup Truck</td>\n",
       "      <td>4.0</td>\n",
       "      <td>Silver</td>\n",
       "      <td>Black</td>\n",
       "      <td>Four-wheel Drive</td>\n",
       "    </tr>\n",
       "  </tbody>\n",
       "</table>\n",
       "</div>"
      ]
     },
     "execution_count": 364,
     "metadata": {},
     "output_type": "execute_result"
    }
   ],
   "execution_count": 364
  },
  {
   "metadata": {},
   "cell_type": "markdown",
   "source": "## EXPLORING DATASET AND GATHERING DATA INFORMATION",
   "id": "b6326ffeeac55f0e"
  },
  {
   "metadata": {
    "ExecuteTime": {
     "end_time": "2025-10-21T16:38:44.594248Z",
     "start_time": "2025-10-21T16:38:44.576102Z"
    }
   },
   "cell_type": "code",
   "source": "df.shape # The dataset has 1002 Rows and 17 Columns/Features",
   "id": "d5e1c9003d81dd18",
   "outputs": [
    {
     "data": {
      "text/plain": [
       "(1002, 17)"
      ]
     },
     "execution_count": 365,
     "metadata": {},
     "output_type": "execute_result"
    }
   ],
   "execution_count": 365
  },
  {
   "metadata": {
    "ExecuteTime": {
     "end_time": "2025-10-21T16:38:44.688843Z",
     "start_time": "2025-10-21T16:38:44.648373Z"
    }
   },
   "cell_type": "code",
   "source": "df.describe() # It gives the basic statistical info about our data.",
   "id": "339d6013a835d7f8",
   "outputs": [
    {
     "data": {
      "text/plain": [
       "              year          price   cylinders      mileage       doors\n",
       "count  1002.000000     979.000000  897.000000   968.000000  995.000000\n",
       "mean   2023.916168   50202.985700    4.975474    69.033058    3.943719\n",
       "std       0.298109   18700.392062    1.392526   507.435745    0.274409\n",
       "min    2023.000000       0.000000    0.000000     0.000000    2.000000\n",
       "25%    2024.000000   36600.000000    4.000000     4.000000    4.000000\n",
       "50%    2024.000000   47165.000000    4.000000     8.000000    4.000000\n",
       "75%    2024.000000   58919.500000    6.000000    13.000000    4.000000\n",
       "max    2025.000000  195895.000000    8.000000  9711.000000    5.000000"
      ],
      "text/html": [
       "<div>\n",
       "<style scoped>\n",
       "    .dataframe tbody tr th:only-of-type {\n",
       "        vertical-align: middle;\n",
       "    }\n",
       "\n",
       "    .dataframe tbody tr th {\n",
       "        vertical-align: top;\n",
       "    }\n",
       "\n",
       "    .dataframe thead th {\n",
       "        text-align: right;\n",
       "    }\n",
       "</style>\n",
       "<table border=\"1\" class=\"dataframe\">\n",
       "  <thead>\n",
       "    <tr style=\"text-align: right;\">\n",
       "      <th></th>\n",
       "      <th>year</th>\n",
       "      <th>price</th>\n",
       "      <th>cylinders</th>\n",
       "      <th>mileage</th>\n",
       "      <th>doors</th>\n",
       "    </tr>\n",
       "  </thead>\n",
       "  <tbody>\n",
       "    <tr>\n",
       "      <th>count</th>\n",
       "      <td>1002.000000</td>\n",
       "      <td>979.000000</td>\n",
       "      <td>897.000000</td>\n",
       "      <td>968.000000</td>\n",
       "      <td>995.000000</td>\n",
       "    </tr>\n",
       "    <tr>\n",
       "      <th>mean</th>\n",
       "      <td>2023.916168</td>\n",
       "      <td>50202.985700</td>\n",
       "      <td>4.975474</td>\n",
       "      <td>69.033058</td>\n",
       "      <td>3.943719</td>\n",
       "    </tr>\n",
       "    <tr>\n",
       "      <th>std</th>\n",
       "      <td>0.298109</td>\n",
       "      <td>18700.392062</td>\n",
       "      <td>1.392526</td>\n",
       "      <td>507.435745</td>\n",
       "      <td>0.274409</td>\n",
       "    </tr>\n",
       "    <tr>\n",
       "      <th>min</th>\n",
       "      <td>2023.000000</td>\n",
       "      <td>0.000000</td>\n",
       "      <td>0.000000</td>\n",
       "      <td>0.000000</td>\n",
       "      <td>2.000000</td>\n",
       "    </tr>\n",
       "    <tr>\n",
       "      <th>25%</th>\n",
       "      <td>2024.000000</td>\n",
       "      <td>36600.000000</td>\n",
       "      <td>4.000000</td>\n",
       "      <td>4.000000</td>\n",
       "      <td>4.000000</td>\n",
       "    </tr>\n",
       "    <tr>\n",
       "      <th>50%</th>\n",
       "      <td>2024.000000</td>\n",
       "      <td>47165.000000</td>\n",
       "      <td>4.000000</td>\n",
       "      <td>8.000000</td>\n",
       "      <td>4.000000</td>\n",
       "    </tr>\n",
       "    <tr>\n",
       "      <th>75%</th>\n",
       "      <td>2024.000000</td>\n",
       "      <td>58919.500000</td>\n",
       "      <td>6.000000</td>\n",
       "      <td>13.000000</td>\n",
       "      <td>4.000000</td>\n",
       "    </tr>\n",
       "    <tr>\n",
       "      <th>max</th>\n",
       "      <td>2025.000000</td>\n",
       "      <td>195895.000000</td>\n",
       "      <td>8.000000</td>\n",
       "      <td>9711.000000</td>\n",
       "      <td>5.000000</td>\n",
       "    </tr>\n",
       "  </tbody>\n",
       "</table>\n",
       "</div>"
      ]
     },
     "execution_count": 366,
     "metadata": {},
     "output_type": "execute_result"
    }
   ],
   "execution_count": 366
  },
  {
   "metadata": {
    "ExecuteTime": {
     "end_time": "2025-10-21T16:38:44.735993Z",
     "start_time": "2025-10-21T16:38:44.724546Z"
    }
   },
   "cell_type": "code",
   "source": "df.dtypes",
   "id": "8289da1503dc1bc",
   "outputs": [
    {
     "data": {
      "text/plain": [
       "name               object\n",
       "description        object\n",
       "make               object\n",
       "model              object\n",
       "year                int64\n",
       "price             float64\n",
       "engine             object\n",
       "cylinders         float64\n",
       "fuel               object\n",
       "mileage           float64\n",
       "transmission       object\n",
       "trim               object\n",
       "body               object\n",
       "doors             float64\n",
       "exterior_color     object\n",
       "interior_color     object\n",
       "drivetrain         object\n",
       "dtype: object"
      ]
     },
     "execution_count": 367,
     "metadata": {},
     "output_type": "execute_result"
    }
   ],
   "execution_count": 367
  },
  {
   "metadata": {
    "ExecuteTime": {
     "end_time": "2025-10-21T16:38:44.813050Z",
     "start_time": "2025-10-21T16:38:44.789083Z"
    }
   },
   "cell_type": "code",
   "source": "df.isnull().sum()",
   "id": "961f31056453bb52",
   "outputs": [
    {
     "data": {
      "text/plain": [
       "name                0\n",
       "description        56\n",
       "make                0\n",
       "model               0\n",
       "year                0\n",
       "price              23\n",
       "engine              2\n",
       "cylinders         105\n",
       "fuel                7\n",
       "mileage            34\n",
       "transmission        2\n",
       "trim                1\n",
       "body                3\n",
       "doors               7\n",
       "exterior_color      5\n",
       "interior_color     38\n",
       "drivetrain          0\n",
       "dtype: int64"
      ]
     },
     "execution_count": 368,
     "metadata": {},
     "output_type": "execute_result"
    }
   ],
   "execution_count": 368
  },
  {
   "metadata": {
    "ExecuteTime": {
     "end_time": "2025-10-21T16:38:44.908018Z",
     "start_time": "2025-10-21T16:38:44.883711Z"
    }
   },
   "cell_type": "code",
   "source": "df['engine'].mode()",
   "id": "ddf1643490d838b3",
   "outputs": [
    {
     "data": {
      "text/plain": [
       "0    16V GDI DOHC Turbo\n",
       "Name: engine, dtype: object"
      ]
     },
     "execution_count": 369,
     "metadata": {},
     "output_type": "execute_result"
    }
   ],
   "execution_count": 369
  },
  {
   "metadata": {
    "ExecuteTime": {
     "end_time": "2025-10-21T16:38:45.001135Z",
     "start_time": "2025-10-21T16:38:44.976820Z"
    }
   },
   "cell_type": "code",
   "source": [
    "df['price'].fillna(df['price'].mean())\n",
    "df['engine'].fillna(df['engine'].mode())"
   ],
   "id": "9930ef921f7462c5",
   "outputs": [
    {
     "data": {
      "text/plain": [
       "0                                 24V GDI DOHC Twin Turbo\n",
       "1                                                     OHV\n",
       "2       6.2L V-8 gasoline direct injection, variable v...\n",
       "3                                            16V MPFI OHV\n",
       "4                                24V DDI OHV Turbo Diesel\n",
       "                              ...                        \n",
       "997                             16V DDI DOHC Turbo Diesel\n",
       "998     4 gasoline direct injection, DOHC, Multiair va...\n",
       "999                               24V GDI DOHC Twin Turbo\n",
       "1000    6 DOHC, variable valve control, regular unlead...\n",
       "1001    8 gasoline direct injection, variable valve co...\n",
       "Name: engine, Length: 1002, dtype: object"
      ]
     },
     "execution_count": 370,
     "metadata": {},
     "output_type": "execute_result"
    }
   ],
   "execution_count": 370
  },
  {
   "metadata": {
    "ExecuteTime": {
     "end_time": "2025-10-21T17:09:03.175173Z",
     "start_time": "2025-10-21T17:09:03.154305Z"
    }
   },
   "cell_type": "code",
   "source": [
    "df['price']=df['price'].fillna(df['price'].mean())\n",
    "df['name']=df['name'].fillna('unknown')\n",
    "df['make']=df['make'].fillna('unknown')\n",
    "df['description']=df['description'].fillna('unknown')\n",
    "df['model']=df['model'].fillna('unknown')\n",
    "df['engine']=df['engine'].fillna('unknown')\n",
    "df['fuel']=df['fuel'].fillna('unknown')\n",
    "df['transmission']=df['transmission'].fillna('unknown')\n",
    "df['trim']=df['trim'].fillna('unknown')\n",
    "df['body']=df['body'].fillna('unknown')\n",
    "df['exterior_color']=df['exterior_color'].fillna('unknown')\n",
    "df['interior_color']=df['interior_color'].fillna('unknown')\n",
    "df['drivetrain']=df['drivetrain'].fillna('unknown')"
   ],
   "id": "1be16f1c5b646ca4",
   "outputs": [],
   "execution_count": 372
  },
  {
   "metadata": {
    "ExecuteTime": {
     "end_time": "2025-10-21T16:38:45.246349900Z",
     "start_time": "2025-10-21T16:37:12.901429Z"
    }
   },
   "cell_type": "code",
   "source": "",
   "id": "5ad613f2bf3e8515",
   "outputs": [],
   "execution_count": null
  },
  {
   "metadata": {
    "ExecuteTime": {
     "end_time": "2025-10-21T16:38:45.247332600Z",
     "start_time": "2025-10-21T16:37:12.926542Z"
    }
   },
   "cell_type": "code",
   "source": [
    "cat_features=['name','make', 'description','model', 'engine', 'fuel', 'transmission', 'trim',\n",
    "    'body', 'exterior_color', 'interior_color', 'drivetrain']"
   ],
   "id": "69847e8bcefe609a",
   "outputs": [],
   "execution_count": 358
  },
  {
   "metadata": {
    "ExecuteTime": {
     "end_time": "2025-10-21T16:38:45.247332600Z",
     "start_time": "2025-10-21T16:37:12.961983Z"
    }
   },
   "cell_type": "code",
   "source": [
    "X=df.drop('price',axis=1)\n",
    "Y=df['price']"
   ],
   "id": "1a0ec904ae81c201",
   "outputs": [],
   "execution_count": 359
  },
  {
   "metadata": {
    "ExecuteTime": {
     "end_time": "2025-10-21T16:38:45.248545700Z",
     "start_time": "2025-10-21T16:37:12.994373Z"
    }
   },
   "cell_type": "code",
   "source": [
    "# Split into train and test sets\n",
    "X_train, X_test, Y_train, Y_test = train_test_split(\n",
    "    X, Y, test_size=0.2, random_state=42\n",
    ")"
   ],
   "id": "255d46ea040340a8",
   "outputs": [],
   "execution_count": 360
  },
  {
   "metadata": {
    "ExecuteTime": {
     "end_time": "2025-10-21T16:38:45.264423100Z",
     "start_time": "2025-10-21T16:37:13.047405Z"
    }
   },
   "cell_type": "code",
   "source": [
    "with mlflow.start_run():\n",
    "    model=CatBoostRegressor(iterations=1000,\n",
    "    learning_rate=0.1,\n",
    "    depth=6,\n",
    "    loss_function='RMSE',\n",
    "    eval_metric='RMSE',\n",
    "    random_seed=42,\n",
    "    early_stopping_rounds=50,\n",
    "    verbose=100)\n",
    "\n",
    "    model.fit(X_train, Y_train,\n",
    "          cat_features=cat_features,\n",
    "          eval_set=(X_test, Y_test))\n",
    "\n",
    "    from sklearn.metrics import mean_squared_error,r2_score\n",
    "    Y_pred=model.predict(X_test)\n",
    "    rmse = np.sqrt(mean_squared_error(Y_test, Y_pred))\n",
    "    r2 = r2_score(Y_test, Y_pred)\n",
    "    print(r2)\n",
    "    print(rmse)\n",
    "\n",
    "    # Log the parameter\n",
    "    mlflow.log_param(\"iterations\",1000)\n",
    "    mlflow.log_param(\"learning_rate\",0.1)\n",
    "    mlflow.log_param(\"depth\",6)\n",
    "\n",
    "    # Log metrics\n",
    "    mlflow.log_metric(\"rmse\",rmse)\n",
    "    mlflow.log_metric(\"r2_score\",r2)\n",
    "\n",
    "    # Log the model\n",
    "    mlflow.catboost.log_model(model,name=\"catboost_model\")\n",
    "\n",
    "    print(f\"Logged to MLflow: RMSE={rmse:.2f}, R2={r2:.2f}\")"
   ],
   "id": "d44d098ba1ff2f77",
   "outputs": [
    {
     "ename": "ValueError",
     "evalue": "'door' is not in list",
     "output_type": "error",
     "traceback": [
      "\u001B[1;31m---------------------------------------------------------------------------\u001B[0m",
      "\u001B[1;31mValueError\u001B[0m                                Traceback (most recent call last)",
      "Cell \u001B[1;32mIn[361], line 11\u001B[0m\n\u001B[0;32m      1\u001B[0m \u001B[38;5;28;01mwith\u001B[39;00m mlflow\u001B[38;5;241m.\u001B[39mstart_run():\n\u001B[0;32m      2\u001B[0m     model\u001B[38;5;241m=\u001B[39mCatBoostRegressor(iterations\u001B[38;5;241m=\u001B[39m\u001B[38;5;241m1000\u001B[39m,\n\u001B[0;32m      3\u001B[0m     learning_rate\u001B[38;5;241m=\u001B[39m\u001B[38;5;241m0.1\u001B[39m,\n\u001B[0;32m      4\u001B[0m     depth\u001B[38;5;241m=\u001B[39m\u001B[38;5;241m6\u001B[39m,\n\u001B[1;32m   (...)\u001B[0m\n\u001B[0;32m      8\u001B[0m     early_stopping_rounds\u001B[38;5;241m=\u001B[39m\u001B[38;5;241m50\u001B[39m,\n\u001B[0;32m      9\u001B[0m     verbose\u001B[38;5;241m=\u001B[39m\u001B[38;5;241m100\u001B[39m)\n\u001B[1;32m---> 11\u001B[0m     \u001B[43mmodel\u001B[49m\u001B[38;5;241;43m.\u001B[39;49m\u001B[43mfit\u001B[49m\u001B[43m(\u001B[49m\u001B[43mX_train\u001B[49m\u001B[43m,\u001B[49m\u001B[43m \u001B[49m\u001B[43mY_train\u001B[49m\u001B[43m,\u001B[49m\n\u001B[0;32m     12\u001B[0m \u001B[43m          \u001B[49m\u001B[43mcat_features\u001B[49m\u001B[38;5;241;43m=\u001B[39;49m\u001B[43mmodel_features\u001B[49m\u001B[43m,\u001B[49m\n\u001B[0;32m     13\u001B[0m \u001B[43m          \u001B[49m\u001B[43meval_set\u001B[49m\u001B[38;5;241;43m=\u001B[39;49m\u001B[43m(\u001B[49m\u001B[43mX_test\u001B[49m\u001B[43m,\u001B[49m\u001B[43m \u001B[49m\u001B[43mY_test\u001B[49m\u001B[43m)\u001B[49m\u001B[43m)\u001B[49m\n\u001B[0;32m     15\u001B[0m     \u001B[38;5;28;01mfrom\u001B[39;00m\u001B[38;5;250m \u001B[39m\u001B[38;5;21;01msklearn\u001B[39;00m\u001B[38;5;21;01m.\u001B[39;00m\u001B[38;5;21;01mmetrics\u001B[39;00m\u001B[38;5;250m \u001B[39m\u001B[38;5;28;01mimport\u001B[39;00m mean_squared_error,r2_score\n\u001B[0;32m     16\u001B[0m     Y_pred\u001B[38;5;241m=\u001B[39mmodel\u001B[38;5;241m.\u001B[39mpredict(X_test)\n",
      "File \u001B[1;32m~\\anaconda3\\envs\\pynwprj\\lib\\site-packages\\catboost\\core.py:5873\u001B[0m, in \u001B[0;36mCatBoostRegressor.fit\u001B[1;34m(self, X, y, cat_features, text_features, embedding_features, graph, sample_weight, baseline, use_best_model, eval_set, verbose, logging_level, plot, plot_file, column_description, verbose_eval, metric_period, silent, early_stopping_rounds, save_snapshot, snapshot_file, snapshot_interval, init_model, callbacks, log_cout, log_cerr)\u001B[0m\n\u001B[0;32m   5871\u001B[0m \u001B[38;5;28;01mif\u001B[39;00m \u001B[38;5;124m'\u001B[39m\u001B[38;5;124mloss_function\u001B[39m\u001B[38;5;124m'\u001B[39m \u001B[38;5;129;01min\u001B[39;00m params:\n\u001B[0;32m   5872\u001B[0m     CatBoostRegressor\u001B[38;5;241m.\u001B[39m_check_is_compatible_loss(params[\u001B[38;5;124m'\u001B[39m\u001B[38;5;124mloss_function\u001B[39m\u001B[38;5;124m'\u001B[39m])\n\u001B[1;32m-> 5873\u001B[0m \u001B[38;5;28;01mreturn\u001B[39;00m \u001B[38;5;28;43mself\u001B[39;49m\u001B[38;5;241;43m.\u001B[39;49m\u001B[43m_fit\u001B[49m\u001B[43m(\u001B[49m\u001B[43mX\u001B[49m\u001B[43m,\u001B[49m\u001B[43m \u001B[49m\u001B[43my\u001B[49m\u001B[43m,\u001B[49m\u001B[43m \u001B[49m\u001B[43mcat_features\u001B[49m\u001B[43m,\u001B[49m\u001B[43m \u001B[49m\u001B[43mtext_features\u001B[49m\u001B[43m,\u001B[49m\u001B[43m \u001B[49m\u001B[43membedding_features\u001B[49m\u001B[43m,\u001B[49m\u001B[43m \u001B[49m\u001B[38;5;28;43;01mNone\u001B[39;49;00m\u001B[43m,\u001B[49m\u001B[43m \u001B[49m\u001B[43mgraph\u001B[49m\u001B[43m,\u001B[49m\u001B[43m \u001B[49m\u001B[43msample_weight\u001B[49m\u001B[43m,\u001B[49m\u001B[43m \u001B[49m\u001B[38;5;28;43;01mNone\u001B[39;49;00m\u001B[43m,\u001B[49m\u001B[43m \u001B[49m\u001B[38;5;28;43;01mNone\u001B[39;49;00m\u001B[43m,\u001B[49m\u001B[43m \u001B[49m\u001B[38;5;28;43;01mNone\u001B[39;49;00m\u001B[43m,\u001B[49m\u001B[43m \u001B[49m\u001B[38;5;28;43;01mNone\u001B[39;49;00m\u001B[43m,\u001B[49m\u001B[43m \u001B[49m\u001B[43mbaseline\u001B[49m\u001B[43m,\u001B[49m\n\u001B[0;32m   5874\u001B[0m \u001B[43m                 \u001B[49m\u001B[43muse_best_model\u001B[49m\u001B[43m,\u001B[49m\u001B[43m \u001B[49m\u001B[43meval_set\u001B[49m\u001B[43m,\u001B[49m\u001B[43m \u001B[49m\u001B[43mverbose\u001B[49m\u001B[43m,\u001B[49m\u001B[43m \u001B[49m\u001B[43mlogging_level\u001B[49m\u001B[43m,\u001B[49m\u001B[43m \u001B[49m\u001B[43mplot\u001B[49m\u001B[43m,\u001B[49m\u001B[43m \u001B[49m\u001B[43mplot_file\u001B[49m\u001B[43m,\u001B[49m\u001B[43m \u001B[49m\u001B[43mcolumn_description\u001B[49m\u001B[43m,\u001B[49m\n\u001B[0;32m   5875\u001B[0m \u001B[43m                 \u001B[49m\u001B[43mverbose_eval\u001B[49m\u001B[43m,\u001B[49m\u001B[43m \u001B[49m\u001B[43mmetric_period\u001B[49m\u001B[43m,\u001B[49m\u001B[43m \u001B[49m\u001B[43msilent\u001B[49m\u001B[43m,\u001B[49m\u001B[43m \u001B[49m\u001B[43mearly_stopping_rounds\u001B[49m\u001B[43m,\u001B[49m\n\u001B[0;32m   5876\u001B[0m \u001B[43m                 \u001B[49m\u001B[43msave_snapshot\u001B[49m\u001B[43m,\u001B[49m\u001B[43m \u001B[49m\u001B[43msnapshot_file\u001B[49m\u001B[43m,\u001B[49m\u001B[43m \u001B[49m\u001B[43msnapshot_interval\u001B[49m\u001B[43m,\u001B[49m\u001B[43m \u001B[49m\u001B[43minit_model\u001B[49m\u001B[43m,\u001B[49m\u001B[43m \u001B[49m\u001B[43mcallbacks\u001B[49m\u001B[43m,\u001B[49m\u001B[43m \u001B[49m\u001B[43mlog_cout\u001B[49m\u001B[43m,\u001B[49m\u001B[43m \u001B[49m\u001B[43mlog_cerr\u001B[49m\u001B[43m)\u001B[49m\n",
      "File \u001B[1;32m~\\anaconda3\\envs\\pynwprj\\lib\\site-packages\\catboost\\core.py:2395\u001B[0m, in \u001B[0;36mCatBoost._fit\u001B[1;34m(self, X, y, cat_features, text_features, embedding_features, pairs, graph, sample_weight, group_id, group_weight, subgroup_id, pairs_weight, baseline, use_best_model, eval_set, verbose, logging_level, plot, plot_file, column_description, verbose_eval, metric_period, silent, early_stopping_rounds, save_snapshot, snapshot_file, snapshot_interval, init_model, callbacks, log_cout, log_cerr)\u001B[0m\n\u001B[0;32m   2392\u001B[0m \u001B[38;5;28;01mif\u001B[39;00m y \u001B[38;5;129;01mis\u001B[39;00m \u001B[38;5;28;01mNone\u001B[39;00m \u001B[38;5;129;01mand\u001B[39;00m \u001B[38;5;129;01mnot\u001B[39;00m \u001B[38;5;28misinstance\u001B[39m(X, PATH_TYPES \u001B[38;5;241m+\u001B[39m (Pool,)):\n\u001B[0;32m   2393\u001B[0m     \u001B[38;5;28;01mraise\u001B[39;00m CatBoostError(\u001B[38;5;124m\"\u001B[39m\u001B[38;5;124my may be None only when X is an instance of catboost.Pool or string\u001B[39m\u001B[38;5;124m\"\u001B[39m)\n\u001B[1;32m-> 2395\u001B[0m train_params \u001B[38;5;241m=\u001B[39m \u001B[38;5;28;43mself\u001B[39;49m\u001B[38;5;241;43m.\u001B[39;49m\u001B[43m_prepare_train_params\u001B[49m\u001B[43m(\u001B[49m\n\u001B[0;32m   2396\u001B[0m \u001B[43m    \u001B[49m\u001B[43mX\u001B[49m\u001B[38;5;241;43m=\u001B[39;49m\u001B[43mX\u001B[49m\u001B[43m,\u001B[49m\u001B[43m \u001B[49m\u001B[43my\u001B[49m\u001B[38;5;241;43m=\u001B[39;49m\u001B[43my\u001B[49m\u001B[43m,\u001B[49m\u001B[43m \u001B[49m\u001B[43mcat_features\u001B[49m\u001B[38;5;241;43m=\u001B[39;49m\u001B[43mcat_features\u001B[49m\u001B[43m,\u001B[49m\u001B[43m \u001B[49m\u001B[43mtext_features\u001B[49m\u001B[38;5;241;43m=\u001B[39;49m\u001B[43mtext_features\u001B[49m\u001B[43m,\u001B[49m\u001B[43m \u001B[49m\u001B[43membedding_features\u001B[49m\u001B[38;5;241;43m=\u001B[39;49m\u001B[43membedding_features\u001B[49m\u001B[43m,\u001B[49m\n\u001B[0;32m   2397\u001B[0m \u001B[43m    \u001B[49m\u001B[43mpairs\u001B[49m\u001B[38;5;241;43m=\u001B[39;49m\u001B[43mpairs\u001B[49m\u001B[43m,\u001B[49m\u001B[43m \u001B[49m\u001B[43mgraph\u001B[49m\u001B[38;5;241;43m=\u001B[39;49m\u001B[43mgraph\u001B[49m\u001B[43m,\u001B[49m\u001B[43m \u001B[49m\u001B[43msample_weight\u001B[49m\u001B[38;5;241;43m=\u001B[39;49m\u001B[43msample_weight\u001B[49m\u001B[43m,\u001B[49m\u001B[43m \u001B[49m\u001B[43mgroup_id\u001B[49m\u001B[38;5;241;43m=\u001B[39;49m\u001B[43mgroup_id\u001B[49m\u001B[43m,\u001B[49m\u001B[43m \u001B[49m\u001B[43mgroup_weight\u001B[49m\u001B[38;5;241;43m=\u001B[39;49m\u001B[43mgroup_weight\u001B[49m\u001B[43m,\u001B[49m\n\u001B[0;32m   2398\u001B[0m \u001B[43m    \u001B[49m\u001B[43msubgroup_id\u001B[49m\u001B[38;5;241;43m=\u001B[39;49m\u001B[43msubgroup_id\u001B[49m\u001B[43m,\u001B[49m\u001B[43m \u001B[49m\u001B[43mpairs_weight\u001B[49m\u001B[38;5;241;43m=\u001B[39;49m\u001B[43mpairs_weight\u001B[49m\u001B[43m,\u001B[49m\u001B[43m \u001B[49m\u001B[43mbaseline\u001B[49m\u001B[38;5;241;43m=\u001B[39;49m\u001B[43mbaseline\u001B[49m\u001B[43m,\u001B[49m\u001B[43m \u001B[49m\u001B[43muse_best_model\u001B[49m\u001B[38;5;241;43m=\u001B[39;49m\u001B[43muse_best_model\u001B[49m\u001B[43m,\u001B[49m\n\u001B[0;32m   2399\u001B[0m \u001B[43m    \u001B[49m\u001B[43meval_set\u001B[49m\u001B[38;5;241;43m=\u001B[39;49m\u001B[43meval_set\u001B[49m\u001B[43m,\u001B[49m\u001B[43m \u001B[49m\u001B[43mverbose\u001B[49m\u001B[38;5;241;43m=\u001B[39;49m\u001B[43mverbose\u001B[49m\u001B[43m,\u001B[49m\u001B[43m \u001B[49m\u001B[43mlogging_level\u001B[49m\u001B[38;5;241;43m=\u001B[39;49m\u001B[43mlogging_level\u001B[49m\u001B[43m,\u001B[49m\u001B[43m \u001B[49m\u001B[43mplot\u001B[49m\u001B[38;5;241;43m=\u001B[39;49m\u001B[43mplot\u001B[49m\u001B[43m,\u001B[49m\u001B[43m \u001B[49m\u001B[43mplot_file\u001B[49m\u001B[38;5;241;43m=\u001B[39;49m\u001B[43mplot_file\u001B[49m\u001B[43m,\u001B[49m\n\u001B[0;32m   2400\u001B[0m \u001B[43m    \u001B[49m\u001B[43mcolumn_description\u001B[49m\u001B[38;5;241;43m=\u001B[39;49m\u001B[43mcolumn_description\u001B[49m\u001B[43m,\u001B[49m\u001B[43m \u001B[49m\u001B[43mverbose_eval\u001B[49m\u001B[38;5;241;43m=\u001B[39;49m\u001B[43mverbose_eval\u001B[49m\u001B[43m,\u001B[49m\u001B[43m \u001B[49m\u001B[43mmetric_period\u001B[49m\u001B[38;5;241;43m=\u001B[39;49m\u001B[43mmetric_period\u001B[49m\u001B[43m,\u001B[49m\n\u001B[0;32m   2401\u001B[0m \u001B[43m    \u001B[49m\u001B[43msilent\u001B[49m\u001B[38;5;241;43m=\u001B[39;49m\u001B[43msilent\u001B[49m\u001B[43m,\u001B[49m\u001B[43m \u001B[49m\u001B[43mearly_stopping_rounds\u001B[49m\u001B[38;5;241;43m=\u001B[39;49m\u001B[43mearly_stopping_rounds\u001B[49m\u001B[43m,\u001B[49m\u001B[43m \u001B[49m\u001B[43msave_snapshot\u001B[49m\u001B[38;5;241;43m=\u001B[39;49m\u001B[43msave_snapshot\u001B[49m\u001B[43m,\u001B[49m\n\u001B[0;32m   2402\u001B[0m \u001B[43m    \u001B[49m\u001B[43msnapshot_file\u001B[49m\u001B[38;5;241;43m=\u001B[39;49m\u001B[43msnapshot_file\u001B[49m\u001B[43m,\u001B[49m\u001B[43m \u001B[49m\u001B[43msnapshot_interval\u001B[49m\u001B[38;5;241;43m=\u001B[39;49m\u001B[43msnapshot_interval\u001B[49m\u001B[43m,\u001B[49m\u001B[43m \u001B[49m\u001B[43minit_model\u001B[49m\u001B[38;5;241;43m=\u001B[39;49m\u001B[43minit_model\u001B[49m\u001B[43m,\u001B[49m\n\u001B[0;32m   2403\u001B[0m \u001B[43m    \u001B[49m\u001B[43mcallbacks\u001B[49m\u001B[38;5;241;43m=\u001B[39;49m\u001B[43mcallbacks\u001B[49m\n\u001B[0;32m   2404\u001B[0m \u001B[43m\u001B[49m\u001B[43m)\u001B[49m\n\u001B[0;32m   2405\u001B[0m params \u001B[38;5;241m=\u001B[39m train_params[\u001B[38;5;124m\"\u001B[39m\u001B[38;5;124mparams\u001B[39m\u001B[38;5;124m\"\u001B[39m]\n\u001B[0;32m   2406\u001B[0m train_pool \u001B[38;5;241m=\u001B[39m train_params[\u001B[38;5;124m\"\u001B[39m\u001B[38;5;124mtrain_pool\u001B[39m\u001B[38;5;124m\"\u001B[39m]\n",
      "File \u001B[1;32m~\\anaconda3\\envs\\pynwprj\\lib\\site-packages\\catboost\\core.py:2275\u001B[0m, in \u001B[0;36mCatBoost._prepare_train_params\u001B[1;34m(self, X, y, cat_features, text_features, embedding_features, pairs, graph, sample_weight, group_id, group_weight, subgroup_id, pairs_weight, baseline, use_best_model, eval_set, verbose, logging_level, plot, plot_file, column_description, verbose_eval, metric_period, silent, early_stopping_rounds, save_snapshot, snapshot_file, snapshot_interval, init_model, callbacks)\u001B[0m\n\u001B[0;32m   2272\u001B[0m text_features \u001B[38;5;241m=\u001B[39m _process_feature_indices(text_features, X, params, \u001B[38;5;124m'\u001B[39m\u001B[38;5;124mtext_features\u001B[39m\u001B[38;5;124m'\u001B[39m)\n\u001B[0;32m   2273\u001B[0m embedding_features \u001B[38;5;241m=\u001B[39m _process_feature_indices(embedding_features, X, params, \u001B[38;5;124m'\u001B[39m\u001B[38;5;124membedding_features\u001B[39m\u001B[38;5;124m'\u001B[39m)\n\u001B[1;32m-> 2275\u001B[0m train_pool \u001B[38;5;241m=\u001B[39m \u001B[43m_build_train_pool\u001B[49m\u001B[43m(\u001B[49m\u001B[43mX\u001B[49m\u001B[43m,\u001B[49m\u001B[43m \u001B[49m\u001B[43my\u001B[49m\u001B[43m,\u001B[49m\u001B[43m \u001B[49m\u001B[43mcat_features\u001B[49m\u001B[43m,\u001B[49m\u001B[43m \u001B[49m\u001B[43mtext_features\u001B[49m\u001B[43m,\u001B[49m\u001B[43m \u001B[49m\u001B[43membedding_features\u001B[49m\u001B[43m,\u001B[49m\u001B[43m \u001B[49m\u001B[43mpairs\u001B[49m\u001B[43m,\u001B[49m\u001B[43m \u001B[49m\u001B[43mgraph\u001B[49m\u001B[43m,\u001B[49m\n\u001B[0;32m   2276\u001B[0m \u001B[43m                               \u001B[49m\u001B[43msample_weight\u001B[49m\u001B[43m,\u001B[49m\u001B[43m \u001B[49m\u001B[43mgroup_id\u001B[49m\u001B[43m,\u001B[49m\u001B[43m \u001B[49m\u001B[43mgroup_weight\u001B[49m\u001B[43m,\u001B[49m\u001B[43m \u001B[49m\u001B[43msubgroup_id\u001B[49m\u001B[43m,\u001B[49m\u001B[43m \u001B[49m\u001B[43mpairs_weight\u001B[49m\u001B[43m,\u001B[49m\n\u001B[0;32m   2277\u001B[0m \u001B[43m                               \u001B[49m\u001B[43mbaseline\u001B[49m\u001B[43m,\u001B[49m\u001B[43m \u001B[49m\u001B[43mcolumn_description\u001B[49m\u001B[43m)\u001B[49m\n\u001B[0;32m   2278\u001B[0m \u001B[38;5;28;01mif\u001B[39;00m train_pool\u001B[38;5;241m.\u001B[39mis_empty_:\n\u001B[0;32m   2279\u001B[0m     \u001B[38;5;28;01mraise\u001B[39;00m CatBoostError(\u001B[38;5;124m\"\u001B[39m\u001B[38;5;124mX is empty.\u001B[39m\u001B[38;5;124m\"\u001B[39m)\n",
      "File \u001B[1;32m~\\anaconda3\\envs\\pynwprj\\lib\\site-packages\\catboost\\core.py:1513\u001B[0m, in \u001B[0;36m_build_train_pool\u001B[1;34m(X, y, cat_features, text_features, embedding_features, pairs, graph, sample_weight, group_id, group_weight, subgroup_id, pairs_weight, baseline, column_description)\u001B[0m\n\u001B[0;32m   1511\u001B[0m     \u001B[38;5;28;01mif\u001B[39;00m y \u001B[38;5;129;01mis\u001B[39;00m \u001B[38;5;28;01mNone\u001B[39;00m:\n\u001B[0;32m   1512\u001B[0m         \u001B[38;5;28;01mraise\u001B[39;00m CatBoostError(\u001B[38;5;124m\"\u001B[39m\u001B[38;5;124my has not initialized in fit(): X is not catboost.Pool object, y must be not None in fit().\u001B[39m\u001B[38;5;124m\"\u001B[39m)\n\u001B[1;32m-> 1513\u001B[0m     train_pool \u001B[38;5;241m=\u001B[39m \u001B[43mPool\u001B[49m\u001B[43m(\u001B[49m\u001B[43mX\u001B[49m\u001B[43m,\u001B[49m\u001B[43m \u001B[49m\u001B[43my\u001B[49m\u001B[43m,\u001B[49m\u001B[43m \u001B[49m\u001B[43mcat_features\u001B[49m\u001B[38;5;241;43m=\u001B[39;49m\u001B[43mcat_features\u001B[49m\u001B[43m,\u001B[49m\u001B[43m \u001B[49m\u001B[43mtext_features\u001B[49m\u001B[38;5;241;43m=\u001B[39;49m\u001B[43mtext_features\u001B[49m\u001B[43m,\u001B[49m\u001B[43m \u001B[49m\u001B[43membedding_features\u001B[49m\u001B[38;5;241;43m=\u001B[39;49m\u001B[43membedding_features\u001B[49m\u001B[43m,\u001B[49m\u001B[43m \u001B[49m\u001B[43mpairs\u001B[49m\u001B[38;5;241;43m=\u001B[39;49m\u001B[43mpairs\u001B[49m\u001B[43m,\u001B[49m\u001B[43m \u001B[49m\u001B[43mgraph\u001B[49m\u001B[38;5;241;43m=\u001B[39;49m\u001B[43mgraph\u001B[49m\u001B[43m,\u001B[49m\u001B[43m \u001B[49m\u001B[43mweight\u001B[49m\u001B[38;5;241;43m=\u001B[39;49m\u001B[43msample_weight\u001B[49m\u001B[43m,\u001B[49m\u001B[43m \u001B[49m\u001B[43mgroup_id\u001B[49m\u001B[38;5;241;43m=\u001B[39;49m\u001B[43mgroup_id\u001B[49m\u001B[43m,\u001B[49m\n\u001B[0;32m   1514\u001B[0m \u001B[43m                      \u001B[49m\u001B[43mgroup_weight\u001B[49m\u001B[38;5;241;43m=\u001B[39;49m\u001B[43mgroup_weight\u001B[49m\u001B[43m,\u001B[49m\u001B[43m \u001B[49m\u001B[43msubgroup_id\u001B[49m\u001B[38;5;241;43m=\u001B[39;49m\u001B[43msubgroup_id\u001B[49m\u001B[43m,\u001B[49m\u001B[43m \u001B[49m\u001B[43mpairs_weight\u001B[49m\u001B[38;5;241;43m=\u001B[39;49m\u001B[43mpairs_weight\u001B[49m\u001B[43m,\u001B[49m\u001B[43m \u001B[49m\u001B[43mbaseline\u001B[49m\u001B[38;5;241;43m=\u001B[39;49m\u001B[43mbaseline\u001B[49m\u001B[43m)\u001B[49m\n\u001B[0;32m   1515\u001B[0m \u001B[38;5;28;01mreturn\u001B[39;00m train_pool\n",
      "File \u001B[1;32m~\\anaconda3\\envs\\pynwprj\\lib\\site-packages\\catboost\\core.py:855\u001B[0m, in \u001B[0;36mPool.__init__\u001B[1;34m(self, data, label, cat_features, text_features, embedding_features, embedding_features_data, column_description, pairs, graph, delimiter, has_header, ignore_csv_quoting, weight, group_id, group_weight, subgroup_id, pairs_weight, baseline, timestamp, feature_names, feature_tags, thread_count, log_cout, log_cerr, data_can_be_none)\u001B[0m\n\u001B[0;32m    849\u001B[0m         \u001B[38;5;28;01mif\u001B[39;00m \u001B[38;5;28misinstance\u001B[39m(feature_names, PATH_TYPES):\n\u001B[0;32m    850\u001B[0m             \u001B[38;5;28;01mraise\u001B[39;00m CatBoostError(\n\u001B[0;32m    851\u001B[0m                 \u001B[38;5;124m\"\u001B[39m\u001B[38;5;124mfeature_names must be None or have non-string type when the pool is created from \u001B[39m\u001B[38;5;124m\"\u001B[39m\n\u001B[0;32m    852\u001B[0m                 \u001B[38;5;124m\"\u001B[39m\u001B[38;5;124mpython objects.\u001B[39m\u001B[38;5;124m\"\u001B[39m\n\u001B[0;32m    853\u001B[0m             )\n\u001B[1;32m--> 855\u001B[0m         \u001B[38;5;28;43mself\u001B[39;49m\u001B[38;5;241;43m.\u001B[39;49m\u001B[43m_init\u001B[49m\u001B[43m(\u001B[49m\u001B[43mdata\u001B[49m\u001B[43m,\u001B[49m\u001B[43m \u001B[49m\u001B[43mlabel\u001B[49m\u001B[43m,\u001B[49m\u001B[43m \u001B[49m\u001B[43mcat_features\u001B[49m\u001B[43m,\u001B[49m\u001B[43m \u001B[49m\u001B[43mtext_features\u001B[49m\u001B[43m,\u001B[49m\u001B[43m \u001B[49m\u001B[43membedding_features\u001B[49m\u001B[43m,\u001B[49m\u001B[43m \u001B[49m\u001B[43membedding_features_data\u001B[49m\u001B[43m,\u001B[49m\u001B[43m \u001B[49m\u001B[43mpairs\u001B[49m\u001B[43m,\u001B[49m\u001B[43m \u001B[49m\u001B[43mgraph\u001B[49m\u001B[43m,\u001B[49m\u001B[43m \u001B[49m\u001B[43mweight\u001B[49m\u001B[43m,\u001B[49m\n\u001B[0;32m    856\u001B[0m \u001B[43m                   \u001B[49m\u001B[43mgroup_id\u001B[49m\u001B[43m,\u001B[49m\u001B[43m \u001B[49m\u001B[43mgroup_weight\u001B[49m\u001B[43m,\u001B[49m\u001B[43m \u001B[49m\u001B[43msubgroup_id\u001B[49m\u001B[43m,\u001B[49m\u001B[43m \u001B[49m\u001B[43mpairs_weight\u001B[49m\u001B[43m,\u001B[49m\u001B[43m \u001B[49m\u001B[43mbaseline\u001B[49m\u001B[43m,\u001B[49m\u001B[43m \u001B[49m\u001B[43mtimestamp\u001B[49m\u001B[43m,\u001B[49m\u001B[43m \u001B[49m\u001B[43mfeature_names\u001B[49m\u001B[43m,\u001B[49m\u001B[43m \u001B[49m\u001B[43mfeature_tags\u001B[49m\u001B[43m,\u001B[49m\u001B[43m \u001B[49m\u001B[43mthread_count\u001B[49m\u001B[43m)\u001B[49m\n\u001B[0;32m    857\u001B[0m \u001B[38;5;28;01melif\u001B[39;00m \u001B[38;5;129;01mnot\u001B[39;00m data_can_be_none:\n\u001B[0;32m    858\u001B[0m     \u001B[38;5;28;01mraise\u001B[39;00m CatBoostError(\u001B[38;5;124m\"\u001B[39m\u001B[38;5;124m'\u001B[39m\u001B[38;5;124mdata\u001B[39m\u001B[38;5;124m'\u001B[39m\u001B[38;5;124m parameter can\u001B[39m\u001B[38;5;124m'\u001B[39m\u001B[38;5;124mt be None\u001B[39m\u001B[38;5;124m\"\u001B[39m)\n",
      "File \u001B[1;32m~\\anaconda3\\envs\\pynwprj\\lib\\site-packages\\catboost\\core.py:1438\u001B[0m, in \u001B[0;36mPool._init\u001B[1;34m(self, data, label, cat_features, text_features, embedding_features, embedding_features_data, pairs, graph, weight, group_id, group_weight, subgroup_id, pairs_weight, baseline, timestamp, feature_names, feature_tags, thread_count)\u001B[0m\n\u001B[0;32m   1436\u001B[0m     \u001B[38;5;28mself\u001B[39m\u001B[38;5;241m.\u001B[39m_check_feature_names(feature_names, features_count)\n\u001B[0;32m   1437\u001B[0m \u001B[38;5;28;01mif\u001B[39;00m cat_features \u001B[38;5;129;01mis\u001B[39;00m \u001B[38;5;129;01mnot\u001B[39;00m \u001B[38;5;28;01mNone\u001B[39;00m:\n\u001B[1;32m-> 1438\u001B[0m     cat_features \u001B[38;5;241m=\u001B[39m \u001B[43m_get_features_indices\u001B[49m\u001B[43m(\u001B[49m\u001B[43mcat_features\u001B[49m\u001B[43m,\u001B[49m\u001B[43m \u001B[49m\u001B[43mfeature_names\u001B[49m\u001B[43m)\u001B[49m\n\u001B[0;32m   1439\u001B[0m     \u001B[38;5;28mself\u001B[39m\u001B[38;5;241m.\u001B[39m_check_string_feature_type(cat_features, \u001B[38;5;124m'\u001B[39m\u001B[38;5;124mcat_features\u001B[39m\u001B[38;5;124m'\u001B[39m)\n\u001B[0;32m   1440\u001B[0m     \u001B[38;5;28mself\u001B[39m\u001B[38;5;241m.\u001B[39m_check_string_feature_value(cat_features, features_count, \u001B[38;5;124m'\u001B[39m\u001B[38;5;124mcat_features\u001B[39m\u001B[38;5;124m'\u001B[39m)\n",
      "File \u001B[1;32m~\\anaconda3\\envs\\pynwprj\\lib\\site-packages\\catboost\\core.py:318\u001B[0m, in \u001B[0;36m_get_features_indices\u001B[1;34m(features, feature_names)\u001B[0m\n\u001B[0;32m    316\u001B[0m     \u001B[38;5;28;01mraise\u001B[39;00m CatBoostError(\u001B[38;5;124m\"\u001B[39m\u001B[38;5;124mfeature names should be a sequence, but got \u001B[39m\u001B[38;5;124m\"\u001B[39m \u001B[38;5;241m+\u001B[39m \u001B[38;5;28mrepr\u001B[39m(features))\n\u001B[0;32m    317\u001B[0m \u001B[38;5;28;01mif\u001B[39;00m feature_names \u001B[38;5;129;01mis\u001B[39;00m \u001B[38;5;129;01mnot\u001B[39;00m \u001B[38;5;28;01mNone\u001B[39;00m:\n\u001B[1;32m--> 318\u001B[0m     \u001B[38;5;28;01mreturn\u001B[39;00m [\n\u001B[0;32m    319\u001B[0m         feature_names\u001B[38;5;241m.\u001B[39mindex(f) \u001B[38;5;28;01mif\u001B[39;00m \u001B[38;5;28misinstance\u001B[39m(f, STRING_TYPES) \u001B[38;5;28;01melse\u001B[39;00m f\n\u001B[0;32m    320\u001B[0m         \u001B[38;5;28;01mfor\u001B[39;00m f \u001B[38;5;129;01min\u001B[39;00m features\n\u001B[0;32m    321\u001B[0m     ]\n\u001B[0;32m    322\u001B[0m \u001B[38;5;28;01melse\u001B[39;00m:\n\u001B[0;32m    323\u001B[0m     \u001B[38;5;28;01mfor\u001B[39;00m f \u001B[38;5;129;01min\u001B[39;00m features:\n",
      "File \u001B[1;32m~\\anaconda3\\envs\\pynwprj\\lib\\site-packages\\catboost\\core.py:319\u001B[0m, in \u001B[0;36m<listcomp>\u001B[1;34m(.0)\u001B[0m\n\u001B[0;32m    316\u001B[0m     \u001B[38;5;28;01mraise\u001B[39;00m CatBoostError(\u001B[38;5;124m\"\u001B[39m\u001B[38;5;124mfeature names should be a sequence, but got \u001B[39m\u001B[38;5;124m\"\u001B[39m \u001B[38;5;241m+\u001B[39m \u001B[38;5;28mrepr\u001B[39m(features))\n\u001B[0;32m    317\u001B[0m \u001B[38;5;28;01mif\u001B[39;00m feature_names \u001B[38;5;129;01mis\u001B[39;00m \u001B[38;5;129;01mnot\u001B[39;00m \u001B[38;5;28;01mNone\u001B[39;00m:\n\u001B[0;32m    318\u001B[0m     \u001B[38;5;28;01mreturn\u001B[39;00m [\n\u001B[1;32m--> 319\u001B[0m         \u001B[43mfeature_names\u001B[49m\u001B[38;5;241;43m.\u001B[39;49m\u001B[43mindex\u001B[49m\u001B[43m(\u001B[49m\u001B[43mf\u001B[49m\u001B[43m)\u001B[49m \u001B[38;5;28;01mif\u001B[39;00m \u001B[38;5;28misinstance\u001B[39m(f, STRING_TYPES) \u001B[38;5;28;01melse\u001B[39;00m f\n\u001B[0;32m    320\u001B[0m         \u001B[38;5;28;01mfor\u001B[39;00m f \u001B[38;5;129;01min\u001B[39;00m features\n\u001B[0;32m    321\u001B[0m     ]\n\u001B[0;32m    322\u001B[0m \u001B[38;5;28;01melse\u001B[39;00m:\n\u001B[0;32m    323\u001B[0m     \u001B[38;5;28;01mfor\u001B[39;00m f \u001B[38;5;129;01min\u001B[39;00m features:\n",
      "\u001B[1;31mValueError\u001B[0m: 'door' is not in list"
     ]
    }
   ],
   "execution_count": 361
  },
  {
   "metadata": {
    "ExecuteTime": {
     "end_time": "2025-10-21T16:38:45.268420600Z",
     "start_time": "2025-10-20T15:26:48.443884Z"
    }
   },
   "cell_type": "code",
   "source": "model.save_model(\"vehicle_model.cbm\")",
   "id": "9a93023f56294f41",
   "outputs": [],
   "execution_count": 319
  },
  {
   "metadata": {
    "ExecuteTime": {
     "end_time": "2025-10-21T16:38:45.285442800Z",
     "start_time": "2025-10-20T15:26:48.491370Z"
    }
   },
   "cell_type": "code",
   "source": [
    "# with mlflow.start_run():\n",
    "#     model=CatBoostRegressor(iterations=900,\n",
    "#     learning_rate=0.2,\n",
    "#     depth=6,\n",
    "#     loss_function='RMSE',\n",
    "#     eval_metric='RMSE',\n",
    "#     random_seed=42,\n",
    "#     early_stopping_rounds=50,\n",
    "#     verbose=100)\n",
    "#\n",
    "#     model.fit(X_train, Y_train,\n",
    "#           cat_features=cat_features,\n",
    "#           eval_set=(X_test, Y_test))\n",
    "#\n",
    "#     from sklearn.metrics import mean_squared_error,r2_score\n",
    "#     Y_pred=model.predict(X_test)\n",
    "#     rmse = np.sqrt(mean_squared_error(Y_test, Y_pred))\n",
    "#     r2 = r2_score(Y_test, Y_pred)\n",
    "#     print(r2)\n",
    "#     print(rmse)\n",
    "#\n",
    "#     # Log the parameter\n",
    "#     mlflow.log_param(\"iterations\",900)\n",
    "#     mlflow.log_param(\"learning_rate\",0.2)\n",
    "#     mlflow.log_param(\"depth\",6)\n",
    "#\n",
    "#     # Log metrics\n",
    "#     mlflow.log_metric(\"rmse\",rmse)\n",
    "#     mlflow.log_metric(\"r2_score\",r2)\n",
    "#\n",
    "#     # Log the model\n",
    "#     mlflow.catboost.log_model(model,name=\"catboost_model_2\")\n",
    "#\n",
    "#     print(f\"Logged to MLflow: RMSE={rmse:.2f}, R2={r2:.2f}\")"
   ],
   "id": "329f7f023d4bbfa5",
   "outputs": [],
   "execution_count": 320
  },
  {
   "metadata": {
    "ExecuteTime": {
     "end_time": "2025-10-21T16:38:45.297463Z",
     "start_time": "2025-10-20T15:26:48.526941Z"
    }
   },
   "cell_type": "code",
   "source": "",
   "id": "48d4e203c0fb26a",
   "outputs": [],
   "execution_count": null
  },
  {
   "metadata": {
    "ExecuteTime": {
     "end_time": "2025-10-21T16:38:45.299532200Z",
     "start_time": "2025-10-20T15:26:48.566581Z"
    }
   },
   "cell_type": "code",
   "source": "",
   "id": "273ef4db28a649ad",
   "outputs": [],
   "execution_count": null
  },
  {
   "metadata": {
    "ExecuteTime": {
     "end_time": "2025-10-21T16:38:45.300531Z",
     "start_time": "2025-10-20T15:26:48.595778Z"
    }
   },
   "cell_type": "code",
   "source": "",
   "id": "78b10c70dfc0e5d5",
   "outputs": [],
   "execution_count": null
  },
  {
   "metadata": {
    "ExecuteTime": {
     "end_time": "2025-10-21T16:38:45.302019400Z",
     "start_time": "2025-10-20T15:26:48.638494Z"
    }
   },
   "cell_type": "code",
   "source": [
    "# new_car=pd.DataFrame([{'name':'scorpio','description':'black charming','make':'Mahindra','model':'scorpioN','year':2025, 'engine':'6.2L V-8 gasoline direct injection','cylinders':4.0, 'fuel':'petrol','mileage':16.0, 'transmission':'automatic', 'trim':'','body':'XUV','doors':'4', 'exterior_color':'black', 'interior_color':'red', 'drivetrain':'4 wheel drive'}])\n",
    "# new_car"
   ],
   "id": "b16d97434ebd0a06",
   "outputs": [],
   "execution_count": 321
  },
  {
   "metadata": {
    "ExecuteTime": {
     "end_time": "2025-10-21T16:38:45.303021300Z",
     "start_time": "2025-10-20T15:26:48.669021Z"
    }
   },
   "cell_type": "code",
   "source": "# new_car['trim']=new_car['trim'].fillna('unknown')",
   "id": "d8d20a0bf35228c6",
   "outputs": [],
   "execution_count": 322
  },
  {
   "metadata": {
    "ExecuteTime": {
     "end_time": "2025-10-21T16:38:45.303021300Z",
     "start_time": "2025-10-20T15:26:48.697492Z"
    }
   },
   "cell_type": "code",
   "source": [
    "# new_pred=model.predict(new_car)[0]\n",
    "# print(f\"Predicted Price: ${new_pred:,.2f}\")"
   ],
   "id": "94055539a53e56c1",
   "outputs": [],
   "execution_count": 323
  },
  {
   "metadata": {
    "ExecuteTime": {
     "end_time": "2025-10-21T16:38:45.304412800Z",
     "start_time": "2025-10-20T15:26:48.727856Z"
    }
   },
   "cell_type": "code",
   "source": [
    "# cc=df['price'].mean()\n",
    "# cc"
   ],
   "id": "a3848e11d23c15ff",
   "outputs": [],
   "execution_count": 324
  },
  {
   "metadata": {
    "ExecuteTime": {
     "end_time": "2025-10-21T16:38:45.305412300Z",
     "start_time": "2025-10-20T15:26:48.759261Z"
    }
   },
   "cell_type": "code",
   "source": [
    "# dd=df['price'].min()\n",
    "# dd"
   ],
   "id": "d3888d0aba01a4af",
   "outputs": [],
   "execution_count": 325
  },
  {
   "metadata": {
    "ExecuteTime": {
     "end_time": "2025-10-21T16:38:45.306410100Z",
     "start_time": "2025-10-20T15:26:48.789264Z"
    }
   },
   "cell_type": "code",
   "source": [
    "# model.save_model('catboost_model.cbm')\n",
    "\n"
   ],
   "id": "bb6f4fd121907b02",
   "outputs": [],
   "execution_count": 326
  },
  {
   "metadata": {},
   "cell_type": "markdown",
   "source": "## CATBOOST MODEL SAVED AND NOW WE WILL USE MLFLOW TO TRACK THE FLOW OF OUR MACHINE LEARNING MODEL.",
   "id": "f6e9474149991e9c"
  },
  {
   "metadata": {
    "ExecuteTime": {
     "end_time": "2025-10-21T16:38:45.307413200Z",
     "start_time": "2025-10-20T15:26:48.813200Z"
    }
   },
   "cell_type": "code",
   "source": "",
   "id": "1ef85492874950bd",
   "outputs": [],
   "execution_count": null
  },
  {
   "metadata": {
    "ExecuteTime": {
     "end_time": "2025-10-21T16:38:45.309741900Z",
     "start_time": "2025-10-20T15:26:48.849845Z"
    }
   },
   "cell_type": "code",
   "source": [
    "# mlflow.set_tracking_uri(\"http://127.0.0.1:5000\")\n",
    "# mlflow.set_experiment(\"Vehicle Price Prediction\")\n"
   ],
   "id": "f0cf1ceed96064ac",
   "outputs": [],
   "execution_count": 327
  },
  {
   "metadata": {
    "ExecuteTime": {
     "end_time": "2025-10-21T16:38:45.310876400Z",
     "start_time": "2025-10-20T15:26:48.866664Z"
    }
   },
   "cell_type": "code",
   "source": "",
   "id": "25ba78f4c6e2c8da",
   "outputs": [],
   "execution_count": null
  },
  {
   "metadata": {
    "ExecuteTime": {
     "end_time": "2025-10-21T16:38:45.311880700Z",
     "start_time": "2025-10-20T15:26:48.894471Z"
    }
   },
   "cell_type": "code",
   "source": "",
   "id": "5a07c38208e016d6",
   "outputs": [],
   "execution_count": null
  },
  {
   "metadata": {
    "ExecuteTime": {
     "end_time": "2025-10-21T16:38:45.312878700Z",
     "start_time": "2025-10-20T15:26:48.935571Z"
    }
   },
   "cell_type": "code",
   "source": "",
   "id": "712883c857b3c1bd",
   "outputs": [],
   "execution_count": null
  },
  {
   "metadata": {
    "ExecuteTime": {
     "end_time": "2025-10-21T16:38:45.312878700Z",
     "start_time": "2025-10-20T15:26:48.974398Z"
    }
   },
   "cell_type": "code",
   "source": "",
   "id": "dbbe501d86e3ebcc",
   "outputs": [],
   "execution_count": null
  },
  {
   "metadata": {
    "ExecuteTime": {
     "end_time": "2025-10-21T16:38:45.313877700Z",
     "start_time": "2025-10-20T15:26:49.010400Z"
    }
   },
   "cell_type": "code",
   "source": "",
   "id": "3dbe7cb571e945a4",
   "outputs": [],
   "execution_count": null
  },
  {
   "metadata": {
    "ExecuteTime": {
     "end_time": "2025-10-21T16:38:45.314876Z",
     "start_time": "2025-10-20T15:26:49.051058Z"
    }
   },
   "cell_type": "code",
   "source": "",
   "id": "4249ae0319ec73c1",
   "outputs": [],
   "execution_count": null
  },
  {
   "metadata": {
    "ExecuteTime": {
     "end_time": "2025-10-21T16:38:45.315876900Z",
     "start_time": "2025-10-20T15:26:49.077680Z"
    }
   },
   "cell_type": "code",
   "source": [
    "# from sklearn.ensemble import RandomForestRegressor\n",
    "# from sklearn.metrics import r2_score,mean_squared_error\n",
    "# from sklearn.model_selection import train_test_split\n",
    "# import numpy as np\n"
   ],
   "id": "d0b78b3bc9abdad6",
   "outputs": [],
   "execution_count": 328
  },
  {
   "metadata": {
    "ExecuteTime": {
     "end_time": "2025-10-21T16:38:45.315876900Z",
     "start_time": "2025-10-20T15:26:49.099603Z"
    }
   },
   "cell_type": "code",
   "source": [
    "# X_encoded=pd.get_dummies(X,columns=cat_features,drop_first=True)\n",
    "# X_train, X_test, Y_train, Y_test = train_test_split(\n",
    "#     X_encoded, Y, test_size=0.5, random_state=42\n",
    "# )\n"
   ],
   "id": "a7ffde9e7b639c09",
   "outputs": [],
   "execution_count": 329
  },
  {
   "metadata": {
    "ExecuteTime": {
     "end_time": "2025-10-21T16:38:45.316875700Z",
     "start_time": "2025-10-20T15:26:49.115140Z"
    }
   },
   "cell_type": "code",
   "source": [
    "# rf_model=RandomForestRegressor(\n",
    "#     n_estimators=100,\n",
    "#     max_depth=None,\n",
    "#     random_state=42,\n",
    "#     n_jobs=1,\n",
    "# )\n",
    "#\n",
    "# rf_model.fit(X_train, Y_train)"
   ],
   "id": "fa5dbfd3f2831b3d",
   "outputs": [],
   "execution_count": 330
  },
  {
   "metadata": {
    "ExecuteTime": {
     "end_time": "2025-10-21T16:38:45.316875700Z",
     "start_time": "2025-10-20T15:26:49.145976Z"
    }
   },
   "cell_type": "code",
   "source": [
    "# y_pred = rf_model.predict(X_test)\n",
    "#\n",
    "# rmse = np.sqrt(mean_squared_error(Y_test, y_pred))\n",
    "# r2 = r2_score(Y_test, y_pred)\n",
    "#\n",
    "# print(f\"Random Forest RMSE: {rmse:,.2f}\")\n",
    "# print(f\"R² Score: {r2:.4f}\")\n"
   ],
   "id": "6e63c1092dfe2e0d",
   "outputs": [],
   "execution_count": 331
  },
  {
   "metadata": {},
   "cell_type": "code",
   "outputs": [],
   "execution_count": null,
   "source": "",
   "id": "12415e949ab30f9"
  }
 ],
 "metadata": {
  "kernelspec": {
   "display_name": "Python 3",
   "language": "python",
   "name": "python3"
  },
  "language_info": {
   "codemirror_mode": {
    "name": "ipython",
    "version": 2
   },
   "file_extension": ".py",
   "mimetype": "text/x-python",
   "name": "python",
   "nbconvert_exporter": "python",
   "pygments_lexer": "ipython2",
   "version": "2.7.6"
  }
 },
 "nbformat": 4,
 "nbformat_minor": 5
}
